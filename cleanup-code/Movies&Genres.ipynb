{
 "cells": [
  {
   "cell_type": "code",
   "execution_count": 1,
   "id": "c9fb4c44",
   "metadata": {},
   "outputs": [],
   "source": [
    "import pandas as pd \n",
    "import string "
   ]
  },
  {
   "cell_type": "code",
   "execution_count": 2,
   "id": "8ff9c148",
   "metadata": {},
   "outputs": [],
   "source": [
    "import re "
   ]
  },
  {
   "cell_type": "markdown",
   "id": "49fc096c",
   "metadata": {},
   "source": [
    "###### MOVIES DB --> Title and Date"
   ]
  },
  {
   "cell_type": "code",
   "execution_count": 45,
   "id": "df9152aa",
   "metadata": {},
   "outputs": [],
   "source": [
    "\n",
    "def get_year(name):\n",
    "    result=re.search('\\s\\((\\d{4})\\)$', name)\n",
    "    if result: \n",
    "        return int(result.groups()[0])\n",
    "def clean_name(name):\n",
    "    result=re.sub('\\s\\((\\d{4})\\)$','',name)\n",
    "    result=re.sub(r\"\\(.*\\)\", \"\", name)\n",
    "    l1=(result.split(','))\n",
    "    l1.reverse()\n",
    "    result=' '.join(l1)\n",
    "    return result \n",
    "        "
   ]
  },
  {
   "cell_type": "code",
   "execution_count": 47,
   "id": "d2824e09",
   "metadata": {},
   "outputs": [],
   "source": [
    "movies= pd.read_csv('movies.csv')"
   ]
  },
  {
   "cell_type": "code",
   "execution_count": 48,
   "id": "b84bebb2",
   "metadata": {},
   "outputs": [],
   "source": [
    "movies['year']=movies['title'].apply(lambda x: get_year(x))\n",
    "movies['title']=movies['title'].apply(lambda x: clean_name(x))"
   ]
  },
  {
   "cell_type": "code",
   "execution_count": 49,
   "id": "0cf1de8a",
   "metadata": {
    "scrolled": true
   },
   "outputs": [
    {
     "data": {
      "text/plain": [
       "0       1995.0\n",
       "1       1995.0\n",
       "2       1995.0\n",
       "3       1995.0\n",
       "4       1995.0\n",
       "         ...  \n",
       "9737    2017.0\n",
       "9738    2017.0\n",
       "9739    2017.0\n",
       "9740    2018.0\n",
       "9741    1991.0\n",
       "Name: year, Length: 9742, dtype: float64"
      ]
     },
     "execution_count": 49,
     "metadata": {},
     "output_type": "execute_result"
    }
   ],
   "source": [
    "movies['year']"
   ]
  },
  {
   "cell_type": "code",
   "execution_count": 50,
   "id": "bcfe82d5",
   "metadata": {},
   "outputs": [
    {
     "data": {
      "text/plain": [
       "' The  Fantastic Planet'"
      ]
     },
     "execution_count": 50,
     "metadata": {},
     "output_type": "execute_result"
    }
   ],
   "source": [
    "movies['title'][1877]"
   ]
  },
  {
   "cell_type": "code",
   "execution_count": 51,
   "id": "f2e6d609",
   "metadata": {},
   "outputs": [
    {
     "data": {
      "text/html": [
       "<div>\n",
       "<style scoped>\n",
       "    .dataframe tbody tr th:only-of-type {\n",
       "        vertical-align: middle;\n",
       "    }\n",
       "\n",
       "    .dataframe tbody tr th {\n",
       "        vertical-align: top;\n",
       "    }\n",
       "\n",
       "    .dataframe thead th {\n",
       "        text-align: right;\n",
       "    }\n",
       "</style>\n",
       "<table border=\"1\" class=\"dataframe\">\n",
       "  <thead>\n",
       "    <tr style=\"text-align: right;\">\n",
       "      <th></th>\n",
       "      <th>movieId</th>\n",
       "      <th>title</th>\n",
       "      <th>genres</th>\n",
       "      <th>year</th>\n",
       "    </tr>\n",
       "  </thead>\n",
       "  <tbody>\n",
       "    <tr>\n",
       "      <th>0</th>\n",
       "      <td>1</td>\n",
       "      <td>Toy Story</td>\n",
       "      <td>Adventure|Animation|Children|Comedy|Fantasy</td>\n",
       "      <td>1995.0</td>\n",
       "    </tr>\n",
       "    <tr>\n",
       "      <th>1</th>\n",
       "      <td>2</td>\n",
       "      <td>Jumanji</td>\n",
       "      <td>Adventure|Children|Fantasy</td>\n",
       "      <td>1995.0</td>\n",
       "    </tr>\n",
       "    <tr>\n",
       "      <th>2</th>\n",
       "      <td>3</td>\n",
       "      <td>Grumpier Old Men</td>\n",
       "      <td>Comedy|Romance</td>\n",
       "      <td>1995.0</td>\n",
       "    </tr>\n",
       "    <tr>\n",
       "      <th>3</th>\n",
       "      <td>4</td>\n",
       "      <td>Waiting to Exhale</td>\n",
       "      <td>Comedy|Drama|Romance</td>\n",
       "      <td>1995.0</td>\n",
       "    </tr>\n",
       "    <tr>\n",
       "      <th>4</th>\n",
       "      <td>5</td>\n",
       "      <td>Father of the Bride Part II</td>\n",
       "      <td>Comedy</td>\n",
       "      <td>1995.0</td>\n",
       "    </tr>\n",
       "  </tbody>\n",
       "</table>\n",
       "</div>"
      ],
      "text/plain": [
       "   movieId                         title  \\\n",
       "0        1                    Toy Story    \n",
       "1        2                      Jumanji    \n",
       "2        3             Grumpier Old Men    \n",
       "3        4            Waiting to Exhale    \n",
       "4        5  Father of the Bride Part II    \n",
       "\n",
       "                                        genres    year  \n",
       "0  Adventure|Animation|Children|Comedy|Fantasy  1995.0  \n",
       "1                   Adventure|Children|Fantasy  1995.0  \n",
       "2                               Comedy|Romance  1995.0  \n",
       "3                         Comedy|Drama|Romance  1995.0  \n",
       "4                                       Comedy  1995.0  "
      ]
     },
     "execution_count": 51,
     "metadata": {},
     "output_type": "execute_result"
    }
   ],
   "source": [
    "movies.head()"
   ]
  },
  {
   "cell_type": "code",
   "execution_count": 52,
   "id": "e1361e82",
   "metadata": {},
   "outputs": [],
   "source": [
    "movies_df= movies.drop('genres', axis=1)\n"
   ]
  },
  {
   "cell_type": "code",
   "execution_count": 53,
   "id": "490c2abc",
   "metadata": {},
   "outputs": [],
   "source": [
    "movies_df=movies_df.fillna(0)\n",
    "movies_df['year']=movies_df['year'].astype(int)"
   ]
  },
  {
   "cell_type": "code",
   "execution_count": 54,
   "id": "3dccda07",
   "metadata": {},
   "outputs": [],
   "source": [
    "movies_df.to_csv('movies_df.csv')"
   ]
  },
  {
   "cell_type": "markdown",
   "id": "4a509539",
   "metadata": {},
   "source": [
    "###### Genre Enumeration "
   ]
  },
  {
   "cell_type": "code",
   "execution_count": 12,
   "id": "9874aa6d",
   "metadata": {},
   "outputs": [],
   "source": [
    "genres_list= ['action','adventure','animation',\"children\",'Comedy','Crime','Documentary','Drama','Fantasy','Film-Noir','Horror','Musical','Mystery','Romance','Sci-Fi','Thriller','War','Western','(no genres listed)']\n",
    "genres_list=[x.lower() for x in genres_list]\n",
    "genres_dict= dict((i,j) for i,j in enumerate(genres_list))"
   ]
  },
  {
   "cell_type": "code",
   "execution_count": 13,
   "id": "303364e9",
   "metadata": {},
   "outputs": [
    {
     "data": {
      "text/plain": [
       "{0: 'action',\n",
       " 1: 'adventure',\n",
       " 2: 'animation',\n",
       " 3: 'children',\n",
       " 4: 'comedy',\n",
       " 5: 'crime',\n",
       " 6: 'documentary',\n",
       " 7: 'drama',\n",
       " 8: 'fantasy',\n",
       " 9: 'film-noir',\n",
       " 10: 'horror',\n",
       " 11: 'musical',\n",
       " 12: 'mystery',\n",
       " 13: 'romance',\n",
       " 14: 'sci-fi',\n",
       " 15: 'thriller',\n",
       " 16: 'war',\n",
       " 17: 'western',\n",
       " 18: '(no genres listed)'}"
      ]
     },
     "execution_count": 13,
     "metadata": {},
     "output_type": "execute_result"
    }
   ],
   "source": [
    "genres_dict"
   ]
  },
  {
   "cell_type": "code",
   "execution_count": 14,
   "id": "079f1274",
   "metadata": {},
   "outputs": [
    {
     "data": {
      "text/plain": [
       "0       [adventure, animation, children, comedy, fantasy]\n",
       "1                          [adventure, children, fantasy]\n",
       "2                                       [comedy, romance]\n",
       "3                                [comedy, drama, romance]\n",
       "4                                                [comedy]\n",
       "                              ...                        \n",
       "9737                 [action, animation, comedy, fantasy]\n",
       "9738                         [animation, comedy, fantasy]\n",
       "9739                                              [drama]\n",
       "9740                                  [action, animation]\n",
       "9741                                             [comedy]\n",
       "Name: genres, Length: 9742, dtype: object"
      ]
     },
     "execution_count": 14,
     "metadata": {},
     "output_type": "execute_result"
    }
   ],
   "source": [
    "movies['genres']= movies['genres'].apply(lambda x: x.lower().split('|'))\n",
    "movies['genres']"
   ]
  },
  {
   "cell_type": "code",
   "execution_count": 15,
   "id": "cb6a16dd",
   "metadata": {},
   "outputs": [],
   "source": [
    "genres_list= ['action','adventure','animation',\"children\",'Comedy','Crime','Documentary','Drama','Fantasy','Film-Noir','Horror','Musical','Mystery','Romance','Sci-Fi','Thriller','War','Western','(no genres listed)']\n",
    "genres_list=[x.lower() for x in genres_list]\n",
    "genres_dict= dict((i,j) for i,j in enumerate(genres_list))\n",
    "def genres_convert(list1):\n",
    "    l2=[]\n",
    "    for l in list1:\n",
    "        for key, value in genres_dict.items():\n",
    "            if value==l:\n",
    "                l2.append(key)\n",
    "    return(l2)\n",
    "                "
   ]
  },
  {
   "cell_type": "code",
   "execution_count": 16,
   "id": "e31189a1",
   "metadata": {},
   "outputs": [
    {
     "data": {
      "text/plain": [
       "[1, 2, 3, 4, 8]"
      ]
     },
     "execution_count": 16,
     "metadata": {},
     "output_type": "execute_result"
    }
   ],
   "source": [
    "t1=['adventure', 'animation', 'children', 'comedy', 'fantasy']\n",
    "genres_convert(t1)"
   ]
  },
  {
   "cell_type": "code",
   "execution_count": 17,
   "id": "8736d26b",
   "metadata": {},
   "outputs": [],
   "source": [
    "movies['genre']= movies['genres'].apply(lambda x: genres_convert(x))"
   ]
  },
  {
   "cell_type": "code",
   "execution_count": 18,
   "id": "4906f5c5",
   "metadata": {},
   "outputs": [
    {
     "data": {
      "text/plain": [
       "0       [1, 2, 3, 4, 8]\n",
       "1             [1, 3, 8]\n",
       "2               [4, 13]\n",
       "3            [4, 7, 13]\n",
       "4                   [4]\n",
       "             ...       \n",
       "9737       [0, 2, 4, 8]\n",
       "9738          [2, 4, 8]\n",
       "9739                [7]\n",
       "9740             [0, 2]\n",
       "9741                [4]\n",
       "Name: genre, Length: 9742, dtype: object"
      ]
     },
     "execution_count": 18,
     "metadata": {},
     "output_type": "execute_result"
    }
   ],
   "source": [
    "movies['genre']"
   ]
  },
  {
   "cell_type": "markdown",
   "id": "0c28e49f",
   "metadata": {},
   "source": [
    "###### New Tables"
   ]
  },
  {
   "cell_type": "code",
   "execution_count": 19,
   "id": "95868e5f",
   "metadata": {},
   "outputs": [],
   "source": [
    "movies_df1=movies.explode('genre')"
   ]
  },
  {
   "cell_type": "code",
   "execution_count": 20,
   "id": "4c5c34da",
   "metadata": {},
   "outputs": [],
   "source": [
    "movie_genre_table= movies_df1.drop(['title', 'genres','year'], axis=1)"
   ]
  },
  {
   "cell_type": "code",
   "execution_count": 21,
   "id": "07f7b333",
   "metadata": {},
   "outputs": [],
   "source": [
    "movie_genre_table.to_csv('movie_genre_table.csv')"
   ]
  },
  {
   "cell_type": "code",
   "execution_count": 22,
   "id": "9bcd08c1",
   "metadata": {},
   "outputs": [],
   "source": [
    "#genres_df=pd.DataFrame([genres_dict])\n",
    "genre_df=pd.Series(genres_dict).to_frame().reset_index()\n",
    "genre_df.columns=['genreId','genre']\n"
   ]
  },
  {
   "cell_type": "code",
   "execution_count": 23,
   "id": "7a17e145",
   "metadata": {},
   "outputs": [],
   "source": [
    "genre_df.to_csv('genres_df.csv')"
   ]
  },
  {
   "cell_type": "code",
   "execution_count": 24,
   "id": "c9ee9012",
   "metadata": {},
   "outputs": [],
   "source": [
    "movies.to_csv('movies_new.csv')"
   ]
  },
  {
   "cell_type": "code",
   "execution_count": null,
   "id": "48697702",
   "metadata": {},
   "outputs": [],
   "source": []
  }
 ],
 "metadata": {
  "kernelspec": {
   "display_name": "Python 3",
   "language": "python",
   "name": "python3"
  },
  "language_info": {
   "codemirror_mode": {
    "name": "ipython",
    "version": 3
   },
   "file_extension": ".py",
   "mimetype": "text/x-python",
   "name": "python",
   "nbconvert_exporter": "python",
   "pygments_lexer": "ipython3",
   "version": "3.8.8"
  }
 },
 "nbformat": 4,
 "nbformat_minor": 5
}
